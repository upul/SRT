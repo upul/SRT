{
 "cells": [
  {
   "cell_type": "code",
   "execution_count": 1,
   "metadata": {},
   "outputs": [],
   "source": [
    "import numpy as np\n",
    "import pymc3 as pm\n",
    "import matplotlib.pyplot as plt\n",
    "import seaborn as sns\n",
    "import pandas as pd\n",
    "import arviz as az\n",
    "from sklearn import preprocessing\n",
    "\n",
    "from scipy.stats import stats\n",
    "\n",
    "%matplotlib inline"
   ]
  },
  {
   "cell_type": "code",
   "execution_count": 2,
   "metadata": {},
   "outputs": [],
   "source": [
    "data = pd.read_csv('../../data/foxes.csv', sep=';')"
   ]
  },
  {
   "cell_type": "code",
   "execution_count": 3,
   "metadata": {},
   "outputs": [
    {
     "data": {
      "text/html": [
       "<div>\n",
       "<style scoped>\n",
       "    .dataframe tbody tr th:only-of-type {\n",
       "        vertical-align: middle;\n",
       "    }\n",
       "\n",
       "    .dataframe tbody tr th {\n",
       "        vertical-align: top;\n",
       "    }\n",
       "\n",
       "    .dataframe thead th {\n",
       "        text-align: right;\n",
       "    }\n",
       "</style>\n",
       "<table border=\"1\" class=\"dataframe\">\n",
       "  <thead>\n",
       "    <tr style=\"text-align: right;\">\n",
       "      <th></th>\n",
       "      <th>group</th>\n",
       "      <th>avgfood</th>\n",
       "      <th>groupsize</th>\n",
       "      <th>area</th>\n",
       "      <th>weight</th>\n",
       "    </tr>\n",
       "  </thead>\n",
       "  <tbody>\n",
       "    <tr>\n",
       "      <th>0</th>\n",
       "      <td>1</td>\n",
       "      <td>0.37</td>\n",
       "      <td>2</td>\n",
       "      <td>1.09</td>\n",
       "      <td>5.02</td>\n",
       "    </tr>\n",
       "    <tr>\n",
       "      <th>1</th>\n",
       "      <td>1</td>\n",
       "      <td>0.37</td>\n",
       "      <td>2</td>\n",
       "      <td>1.09</td>\n",
       "      <td>2.84</td>\n",
       "    </tr>\n",
       "    <tr>\n",
       "      <th>2</th>\n",
       "      <td>2</td>\n",
       "      <td>0.53</td>\n",
       "      <td>2</td>\n",
       "      <td>2.05</td>\n",
       "      <td>5.33</td>\n",
       "    </tr>\n",
       "    <tr>\n",
       "      <th>3</th>\n",
       "      <td>2</td>\n",
       "      <td>0.53</td>\n",
       "      <td>2</td>\n",
       "      <td>2.05</td>\n",
       "      <td>6.07</td>\n",
       "    </tr>\n",
       "    <tr>\n",
       "      <th>4</th>\n",
       "      <td>3</td>\n",
       "      <td>0.49</td>\n",
       "      <td>2</td>\n",
       "      <td>2.12</td>\n",
       "      <td>5.85</td>\n",
       "    </tr>\n",
       "  </tbody>\n",
       "</table>\n",
       "</div>"
      ],
      "text/plain": [
       "   group  avgfood  groupsize  area  weight\n",
       "0      1     0.37          2  1.09    5.02\n",
       "1      1     0.37          2  1.09    2.84\n",
       "2      2     0.53          2  2.05    5.33\n",
       "3      2     0.53          2  2.05    6.07\n",
       "4      3     0.49          2  2.12    5.85"
      ]
     },
     "execution_count": 3,
     "metadata": {},
     "output_type": "execute_result"
    }
   ],
   "source": [
    "data.head(5)"
   ]
  },
  {
   "cell_type": "markdown",
   "metadata": {},
   "source": [
    "##### Question 1\n",
    "\n",
    "There is no backdoor path from area to weight. Hence, we have only one predictor variable (i. e. area)let's standardize this dataset (I'msing using Scikit-Learn) \n",
    "\n",
    "Let's standardize this dataset (I'msing using Scikit-Learn) "
   ]
  },
  {
   "cell_type": "code",
   "execution_count": 4,
   "metadata": {},
   "outputs": [],
   "source": [
    "def standardize(data):\n",
    "    return preprocessing.scale(data)\n",
    "\n",
    "data[['avgfood','groupsize','area','weight']] = \\\n",
    "    preprocessing.scale(data[['avgfood','groupsize','area','weight']])"
   ]
  },
  {
   "cell_type": "code",
   "execution_count": 5,
   "metadata": {},
   "outputs": [
    {
     "data": {
      "text/html": [
       "<div>\n",
       "<style scoped>\n",
       "    .dataframe tbody tr th:only-of-type {\n",
       "        vertical-align: middle;\n",
       "    }\n",
       "\n",
       "    .dataframe tbody tr th {\n",
       "        vertical-align: top;\n",
       "    }\n",
       "\n",
       "    .dataframe thead th {\n",
       "        text-align: right;\n",
       "    }\n",
       "</style>\n",
       "<table border=\"1\" class=\"dataframe\">\n",
       "  <thead>\n",
       "    <tr style=\"text-align: right;\">\n",
       "      <th></th>\n",
       "      <th>group</th>\n",
       "      <th>avgfood</th>\n",
       "      <th>groupsize</th>\n",
       "      <th>area</th>\n",
       "      <th>weight</th>\n",
       "    </tr>\n",
       "  </thead>\n",
       "  <tbody>\n",
       "    <tr>\n",
       "      <th>0</th>\n",
       "      <td>1</td>\n",
       "      <td>-1.933180</td>\n",
       "      <td>-1.530701</td>\n",
       "      <td>-2.249313</td>\n",
       "      <td>0.415931</td>\n",
       "    </tr>\n",
       "    <tr>\n",
       "      <th>1</th>\n",
       "      <td>1</td>\n",
       "      <td>-1.933180</td>\n",
       "      <td>-1.530701</td>\n",
       "      <td>-2.249313</td>\n",
       "      <td>-1.433238</td>\n",
       "    </tr>\n",
       "    <tr>\n",
       "      <th>2</th>\n",
       "      <td>2</td>\n",
       "      <td>-1.122886</td>\n",
       "      <td>-1.530701</td>\n",
       "      <td>-1.210738</td>\n",
       "      <td>0.678887</td>\n",
       "    </tr>\n",
       "    <tr>\n",
       "      <th>3</th>\n",
       "      <td>2</td>\n",
       "      <td>-1.122886</td>\n",
       "      <td>-1.530701</td>\n",
       "      <td>-1.210738</td>\n",
       "      <td>1.306586</td>\n",
       "    </tr>\n",
       "    <tr>\n",
       "      <th>4</th>\n",
       "      <td>3</td>\n",
       "      <td>-1.325459</td>\n",
       "      <td>-1.530701</td>\n",
       "      <td>-1.135008</td>\n",
       "      <td>1.119973</td>\n",
       "    </tr>\n",
       "  </tbody>\n",
       "</table>\n",
       "</div>"
      ],
      "text/plain": [
       "   group   avgfood  groupsize      area    weight\n",
       "0      1 -1.933180  -1.530701 -2.249313  0.415931\n",
       "1      1 -1.933180  -1.530701 -2.249313 -1.433238\n",
       "2      2 -1.122886  -1.530701 -1.210738  0.678887\n",
       "3      2 -1.122886  -1.530701 -1.210738  1.306586\n",
       "4      3 -1.325459  -1.530701 -1.135008  1.119973"
      ]
     },
     "execution_count": 5,
     "metadata": {},
     "output_type": "execute_result"
    }
   ],
   "source": [
    "data.head(5)"
   ]
  },
  {
   "cell_type": "code",
   "execution_count": 6,
   "metadata": {},
   "outputs": [
    {
     "name": "stderr",
     "output_type": "stream",
     "text": [
      "Auto-assigning NUTS sampler...\n",
      "Initializing NUTS using jitter+adapt_diag...\n",
      "Multiprocess sampling (4 chains in 4 jobs)\n",
      "NUTS: [sigma, beta, alpha]\n",
      "Sampling 4 chains, 0 divergences: 100%|██████████| 4000/4000 [00:00<00:00, 5739.99draws/s]\n",
      "100%|██████████| 2000/2000 [00:15<00:00, 127.39it/s]\n"
     ]
    }
   ],
   "source": [
    "# Let's build the model for the first queston\n",
    "with pm.Model() as q_1_model:\n",
    "    # our data\n",
    "    weight = pm.Data('weight', data['weight'].values)\n",
    "    area = pm.Data('area', data['area'].values)\n",
    "    \n",
    "    # priors\n",
    "    alpha = pm.Normal('alpha', mu=0.0, sd=0.2)\n",
    "    beta = pm.Normal('beta', mu=0.0, sd=0.5)\n",
    "    sigma = pm.Exponential('sigma', lam=1.0)\n",
    "    \n",
    "    # model\n",
    "    mu = alpha + beta*area\n",
    "    weight_pred = pm.Normal('weight_pred', mu=mu, sd=sigma, observed=weight)\n",
    "    # samples \n",
    "    prior = pm.sample_prior_predictive(samples=50)\n",
    "    posterior = pm.sample()\n",
    "    posterior_pred = pm.sample_posterior_predictive(posterior)"
   ]
  },
  {
   "cell_type": "code",
   "execution_count": 7,
   "metadata": {},
   "outputs": [
    {
     "data": {
      "text/html": [
       "<div>\n",
       "<style scoped>\n",
       "    .dataframe tbody tr th:only-of-type {\n",
       "        vertical-align: middle;\n",
       "    }\n",
       "\n",
       "    .dataframe tbody tr th {\n",
       "        vertical-align: top;\n",
       "    }\n",
       "\n",
       "    .dataframe thead th {\n",
       "        text-align: right;\n",
       "    }\n",
       "</style>\n",
       "<table border=\"1\" class=\"dataframe\">\n",
       "  <thead>\n",
       "    <tr style=\"text-align: right;\">\n",
       "      <th></th>\n",
       "      <th>mean</th>\n",
       "      <th>sd</th>\n",
       "      <th>hpd_3%</th>\n",
       "      <th>hpd_97%</th>\n",
       "      <th>mcse_mean</th>\n",
       "      <th>mcse_sd</th>\n",
       "      <th>ess_mean</th>\n",
       "      <th>ess_sd</th>\n",
       "      <th>ess_bulk</th>\n",
       "      <th>ess_tail</th>\n",
       "      <th>r_hat</th>\n",
       "    </tr>\n",
       "  </thead>\n",
       "  <tbody>\n",
       "    <tr>\n",
       "      <th>alpha</th>\n",
       "      <td>-0.002</td>\n",
       "      <td>0.089</td>\n",
       "      <td>-0.164</td>\n",
       "      <td>0.162</td>\n",
       "      <td>0.002</td>\n",
       "      <td>0.002</td>\n",
       "      <td>2377.0</td>\n",
       "      <td>894.0</td>\n",
       "      <td>2364.0</td>\n",
       "      <td>1275.0</td>\n",
       "      <td>1.01</td>\n",
       "    </tr>\n",
       "    <tr>\n",
       "      <th>beta</th>\n",
       "      <td>0.021</td>\n",
       "      <td>0.096</td>\n",
       "      <td>-0.165</td>\n",
       "      <td>0.187</td>\n",
       "      <td>0.002</td>\n",
       "      <td>0.002</td>\n",
       "      <td>2390.0</td>\n",
       "      <td>954.0</td>\n",
       "      <td>2421.0</td>\n",
       "      <td>1177.0</td>\n",
       "      <td>1.00</td>\n",
       "    </tr>\n",
       "    <tr>\n",
       "      <th>sigma</th>\n",
       "      <td>1.014</td>\n",
       "      <td>0.069</td>\n",
       "      <td>0.877</td>\n",
       "      <td>1.135</td>\n",
       "      <td>0.001</td>\n",
       "      <td>0.001</td>\n",
       "      <td>2407.0</td>\n",
       "      <td>2407.0</td>\n",
       "      <td>2485.0</td>\n",
       "      <td>1405.0</td>\n",
       "      <td>1.01</td>\n",
       "    </tr>\n",
       "  </tbody>\n",
       "</table>\n",
       "</div>"
      ],
      "text/plain": [
       "        mean     sd  hpd_3%  hpd_97%  mcse_mean  mcse_sd  ess_mean  ess_sd  \\\n",
       "alpha -0.002  0.089  -0.164    0.162      0.002    0.002    2377.0   894.0   \n",
       "beta   0.021  0.096  -0.165    0.187      0.002    0.002    2390.0   954.0   \n",
       "sigma  1.014  0.069   0.877    1.135      0.001    0.001    2407.0  2407.0   \n",
       "\n",
       "       ess_bulk  ess_tail  r_hat  \n",
       "alpha    2364.0    1275.0   1.01  \n",
       "beta     2421.0    1177.0   1.00  \n",
       "sigma    2485.0    1405.0   1.01  "
      ]
     },
     "execution_count": 7,
     "metadata": {},
     "output_type": "execute_result"
    }
   ],
   "source": [
    "pm.summary(posterior, var_names=['alpha', 'beta', 'sigma'])"
   ]
  },
  {
   "cell_type": "markdown",
   "metadata": {},
   "source": [
    "The **`beta`** coefficient is relatively low. So it seems like the area has no cocausal influence on the weight. "
   ]
  },
  {
   "cell_type": "code",
   "execution_count": 8,
   "metadata": {},
   "outputs": [
    {
     "data": {
      "text/plain": [
       "50"
      ]
     },
     "execution_count": 8,
     "metadata": {},
     "output_type": "execute_result"
    }
   ],
   "source": [
    "df = pd.DataFrame()\n",
    "df = df.assign(alpha = pd.Series(prior['alpha']),\n",
    "               sigma = pd.Series(prior['sigma']),\n",
    "               beta = pd.Series(prior['beta']))\n",
    "len(df)"
   ]
  },
  {
   "cell_type": "code",
   "execution_count": 9,
   "metadata": {},
   "outputs": [],
   "source": [
    "\n",
    "priors = pd.DataFrame()\n",
    "\n",
    "for i in range(df.shape[0]):\n",
    "    priors['prior_'+str(i)] = df.loc[i,'alpha'] + df.loc[i,'beta'] * data['area']"
   ]
  },
  {
   "cell_type": "code",
   "execution_count": 10,
   "metadata": {
    "scrolled": true
   },
   "outputs": [],
   "source": [
    "aux = pd.concat([data.area, priors], axis=1)\n",
    "aux_plot = aux.melt(id_vars=['area'],\n",
    "                  value_vars=list(aux.columns)[1:],\n",
    "                  var_name='prior',\n",
    "                  value_name='weight')"
   ]
  },
  {
   "cell_type": "code",
   "execution_count": 11,
   "metadata": {},
   "outputs": [
    {
     "data": {
      "image/png": "[encoded data removed]",
      "text/plain": [
       "<Figure size 432x288 with 1 Axes>"
      ]
     },
     "metadata": {
      "needs_background": "light"
     },
     "output_type": "display_data"
    }
   ],
   "source": [
    "for i in range(50):\n",
    "    plt.plot(aux['area'].values, aux['prior_'+str(i)].values)\n",
    "plt.xlabel('area')\n",
    "plt.ylabel('prior predictive weight')\n",
    "plt.show()"
   ]
  },
  {
   "cell_type": "markdown",
   "metadata": {},
   "source": [
    "##### Question 2\n",
    "\n",
    "Now we need to investigate the causal effect of adding teritory, and would this make foxes heavier?\n",
    "\n",
    "Now we don't have backdoor paths. But there is an indirect path in the graph from avefood to weight (**`avgfood` -> `groupsize` -> `weight`**). If we close this path we will not get the total causal influence of food. \n",
    "\n",
    "So we have only one predictor variable (i.e. **`avgfood`**)"
   ]
  },
  {
   "cell_type": "code",
   "execution_count": 12,
   "metadata": {},
   "outputs": [
    {
     "name": "stderr",
     "output_type": "stream",
     "text": [
      "Auto-assigning NUTS sampler...\n",
      "Initializing NUTS using jitter+adapt_diag...\n",
      "Multiprocess sampling (4 chains in 4 jobs)\n",
      "NUTS: [sigma, beta, alpha]\n",
      "Sampling 4 chains, 0 divergences: 100%|██████████| 4000/4000 [00:00<00:00, 5783.85draws/s]\n",
      "100%|██████████| 2000/2000 [00:16<00:00, 118.78it/s]\n"
     ]
    }
   ],
   "source": [
    "# Let's build the model for the first queston\n",
    "with pm.Model() as q_1_model:\n",
    "    # our data\n",
    "    weight = pm.Data('weight', data['weight'].values)\n",
    "    avgfood = pm.Data('avgfood', data['avgfood'].values)\n",
    "    \n",
    "    # priors\n",
    "    alpha = pm.Normal('alpha', mu=0.0, sd=0.2)\n",
    "    beta = pm.Normal('beta', mu=0.0, sd=0.5)\n",
    "    sigma = pm.Exponential('sigma', lam=1.0)\n",
    "    \n",
    "    # model\n",
    "    mu = alpha + beta*avgfood\n",
    "    weight_pred = pm.Normal('weight_pred', mu=mu, sd=sigma, observed=weight)\n",
    "    # samples \n",
    "    prior = pm.sample_prior_predictive(samples=50)\n",
    "    posterior = pm.sample()\n",
    "    posterior_pred = pm.sample_posterior_predictive(posterior)"
   ]
  },
  {
   "cell_type": "code",
   "execution_count": 13,
   "metadata": {},
   "outputs": [
    {
     "data": {
      "text/html": [
       "<div>\n",
       "<style scoped>\n",
       "    .dataframe tbody tr th:only-of-type {\n",
       "        vertical-align: middle;\n",
       "    }\n",
       "\n",
       "    .dataframe tbody tr th {\n",
       "        vertical-align: top;\n",
       "    }\n",
       "\n",
       "    .dataframe thead th {\n",
       "        text-align: right;\n",
       "    }\n",
       "</style>\n",
       "<table border=\"1\" class=\"dataframe\">\n",
       "  <thead>\n",
       "    <tr style=\"text-align: right;\">\n",
       "      <th></th>\n",
       "      <th>mean</th>\n",
       "      <th>sd</th>\n",
       "      <th>hpd_3%</th>\n",
       "      <th>hpd_97%</th>\n",
       "      <th>mcse_mean</th>\n",
       "      <th>mcse_sd</th>\n",
       "      <th>ess_mean</th>\n",
       "      <th>ess_sd</th>\n",
       "      <th>ess_bulk</th>\n",
       "      <th>ess_tail</th>\n",
       "      <th>r_hat</th>\n",
       "    </tr>\n",
       "  </thead>\n",
       "  <tbody>\n",
       "    <tr>\n",
       "      <th>alpha</th>\n",
       "      <td>0.002</td>\n",
       "      <td>0.085</td>\n",
       "      <td>-0.160</td>\n",
       "      <td>0.162</td>\n",
       "      <td>0.002</td>\n",
       "      <td>0.002</td>\n",
       "      <td>2848.0</td>\n",
       "      <td>1184.0</td>\n",
       "      <td>2841.0</td>\n",
       "      <td>1820.0</td>\n",
       "      <td>1.00</td>\n",
       "    </tr>\n",
       "    <tr>\n",
       "      <th>beta</th>\n",
       "      <td>-0.024</td>\n",
       "      <td>0.091</td>\n",
       "      <td>-0.198</td>\n",
       "      <td>0.140</td>\n",
       "      <td>0.002</td>\n",
       "      <td>0.002</td>\n",
       "      <td>2339.0</td>\n",
       "      <td>1060.0</td>\n",
       "      <td>2309.0</td>\n",
       "      <td>1528.0</td>\n",
       "      <td>1.01</td>\n",
       "    </tr>\n",
       "    <tr>\n",
       "      <th>sigma</th>\n",
       "      <td>1.014</td>\n",
       "      <td>0.064</td>\n",
       "      <td>0.901</td>\n",
       "      <td>1.134</td>\n",
       "      <td>0.001</td>\n",
       "      <td>0.001</td>\n",
       "      <td>2368.0</td>\n",
       "      <td>2332.0</td>\n",
       "      <td>2395.0</td>\n",
       "      <td>1525.0</td>\n",
       "      <td>1.00</td>\n",
       "    </tr>\n",
       "  </tbody>\n",
       "</table>\n",
       "</div>"
      ],
      "text/plain": [
       "        mean     sd  hpd_3%  hpd_97%  mcse_mean  mcse_sd  ess_mean  ess_sd  \\\n",
       "alpha  0.002  0.085  -0.160    0.162      0.002    0.002    2848.0  1184.0   \n",
       "beta  -0.024  0.091  -0.198    0.140      0.002    0.002    2339.0  1060.0   \n",
       "sigma  1.014  0.064   0.901    1.134      0.001    0.001    2368.0  2332.0   \n",
       "\n",
       "       ess_bulk  ess_tail  r_hat  \n",
       "alpha    2841.0    1820.0   1.00  \n",
       "beta     2309.0    1528.0   1.01  \n",
       "sigma    2395.0    1525.0   1.00  "
      ]
     },
     "execution_count": 13,
     "metadata": {},
     "output_type": "execute_result"
    }
   ],
   "source": [
    "pm.summary(posterior, var_names=['alpha', 'beta', 'sigma'])"
   ]
  },
  {
   "cell_type": "markdown",
   "metadata": {},
   "source": [
    "##### Question 3"
   ]
  },
  {
   "cell_type": "code",
   "execution_count": null,
   "metadata": {},
   "outputs": [],
   "source": []
  }
 ],
 "metadata": {
  "kernelspec": {
   "display_name": "Python 3",
   "language": "python",
   "name": "python3"
  },
  "language_info": {
   "codemirror_mode": {
    "name": "ipython",
    "version": 3
   },
   "file_extension": ".py",
   "mimetype": "text/x-python",
   "name": "python",
   "nbconvert_exporter": "python",
   "pygments_lexer": "ipython3",
   "version": "3.7.4"
  }
 },
 "nbformat": 4,
 "nbformat_minor": 2
}
